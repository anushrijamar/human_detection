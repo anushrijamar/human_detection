{
  "cells": [
    {
      "cell_type": "code",
      "execution_count": null,
      "metadata": {
        "colab": {
          "base_uri": "https://localhost:8080/"
        },
        "id": "GlDMEdmy4NNM",
        "outputId": "1f2f7f92-80e1-466d-8aad-d2b8616450de"
      },
      "outputs": [],
      "source": [
        "pip install roboflow"
      ]
    },
    {
      "cell_type": "code",
      "execution_count": null,
      "metadata": {
        "colab": {
          "base_uri": "https://localhost:8080/"
        },
        "id": "O2YwNXnhksjo",
        "outputId": "0c992393-06ab-48f2-8e06-0831b1b7e21b"
      },
      "outputs": [],
      "source": [
        "pip install opencv-python roboflow\n"
      ]
    },
    {
      "cell_type": "code",
      "execution_count": 7,
      "metadata": {
        "colab": {
          "base_uri": "https://localhost:8080/"
        },
        "id": "SIN6OzLZ4aZ1",
        "outputId": "7c8a0ac6-d051-4df9-9305-28139fc1bb4e"
      },
      "outputs": [
        {
          "name": "stdout",
          "output_type": "stream",
          "text": [
            "loading Roboflow workspace...\n",
            "loading Roboflow project...\n",
            "Checking for video inference results for job 9049950a-6e84-449a-81a0-8e662303b54b every 60s\n",
            "(0s): Checking for inference results\n",
            "{'frame_offset': [0, 12, 24, 36, 48, 60, 72, 84, 96, 108, 120, 132, 144, 156, 168, 180, 192, 204], 'time_offset': [0.0, 0.2, 0.4, 0.6, 0.8, 1.0, 1.2, 1.4, 1.6, 1.8, 2.0, 2.2, 2.4, 2.6, 2.8, 3.0, 3.2, 3.4], 'object-detection-vyqkc': [{'inference_id': 'f257a113-0a8a-4728-947d-8e7ca765e4cf', 'time': 0.10048093501245603, 'image': {'width': 478, 'height': 850}, 'predictions': []}, {'inference_id': 'f257a113-0a8a-4728-947d-8e7ca765e4cf', 'time': 0.1005125559750013, 'image': {'width': 478, 'height': 850}, 'predictions': []}, {'inference_id': 'f257a113-0a8a-4728-947d-8e7ca765e4cf', 'time': 0.10051936795935035, 'image': {'width': 478, 'height': 850}, 'predictions': []}, {'inference_id': 'f257a113-0a8a-4728-947d-8e7ca765e4cf', 'time': 0.10052536497823894, 'image': {'width': 478, 'height': 850}, 'predictions': []}, {'inference_id': '2352cfda-ec73-440d-983f-195cdcd60d58', 'time': 0.09985846100607887, 'image': {'width': 478, 'height': 850}, 'predictions': []}, {'inference_id': '2352cfda-ec73-440d-983f-195cdcd60d58', 'time': 0.0998854570207186, 'image': {'width': 478, 'height': 850}, 'predictions': []}, {'inference_id': '2352cfda-ec73-440d-983f-195cdcd60d58', 'time': 0.09990999003639445, 'image': {'width': 478, 'height': 850}, 'predictions': []}, {'inference_id': '2352cfda-ec73-440d-983f-195cdcd60d58', 'time': 0.0999162410153076, 'image': {'width': 478, 'height': 850}, 'predictions': []}, {'inference_id': '014a3441-dcc2-4a02-81a4-5b3b96383901', 'time': 0.10364049696363509, 'image': {'width': 478, 'height': 850}, 'predictions': []}, {'inference_id': '014a3441-dcc2-4a02-81a4-5b3b96383901', 'time': 0.10366720595629886, 'image': {'width': 478, 'height': 850}, 'predictions': []}, {'inference_id': '014a3441-dcc2-4a02-81a4-5b3b96383901', 'time': 0.10367350396700203, 'image': {'width': 478, 'height': 850}, 'predictions': []}, {'inference_id': '014a3441-dcc2-4a02-81a4-5b3b96383901', 'time': 0.10367934399982914, 'image': {'width': 478, 'height': 850}, 'predictions': []}, {'inference_id': '5313778e-7e8a-4433-9e84-35b3891eb2fb', 'time': 0.10909063700819388, 'image': {'width': 478, 'height': 850}, 'predictions': []}, {'inference_id': '5313778e-7e8a-4433-9e84-35b3891eb2fb', 'time': 0.10912842099787667, 'image': {'width': 478, 'height': 850}, 'predictions': []}, {'inference_id': '5313778e-7e8a-4433-9e84-35b3891eb2fb', 'time': 0.10913795098895207, 'image': {'width': 478, 'height': 850}, 'predictions': []}, {'inference_id': '5313778e-7e8a-4433-9e84-35b3891eb2fb', 'time': 0.10914726601913571, 'image': {'width': 478, 'height': 850}, 'predictions': []}, {'inference_id': 'd84eebff-191b-43ac-866a-0ad0f1f442fa', 'time': 0.045656618021894246, 'image': {'width': 478, 'height': 850}, 'predictions': []}, {'inference_id': 'd84eebff-191b-43ac-866a-0ad0f1f442fa', 'time': 0.04568344203289598, 'image': {'width': 478, 'height': 850}, 'predictions': []}]}\n",
            "Human detected: No\n"
          ]
        }
      ],
      "source": [
        "from roboflow import Roboflow\n",
        "\n",
        "# Initialize Roboflow with API key and load the project\n",
        "rf = Roboflow(api_key=\"ZR8cnHmRyvRYHKWKNLBL\")\n",
        "project = rf.workspace().project(\"object-detection-vyqkc\")\n",
        "model = project.version(\"1\").model\n",
        "\n",
        "# Make a prediction on the video\n",
        "job_id, signed_url, expire_time = model.predict_video(\n",
        "    \"D:/alarm/no_human.mp4\",\n",
        "    fps=5,\n",
        "    prediction_type=\"batch-video\",\n",
        ")\n",
        "\n",
        "# Poll until results are available\n",
        "results = model.poll_until_video_results(job_id)\n",
        "\n",
        "# Print the results\n",
        "print(results)\n",
        "\n",
        "# Check if any prediction is for a human\n",
        "human_detected = False\n",
        "\n",
        "# Iterate through the frames in the result\n",
        "for frame in results['object-detection-vyqkc']:\n",
        "    for prediction in frame['predictions']:\n",
        "        if prediction['class'] == '0':  # Assuming '0' represents a human\n",
        "            human_detected = True\n",
        "            break\n",
        "    if human_detected:\n",
        "        break\n",
        "\n",
        "# Output whether a human was detected\n",
        "from playsound import playsound\n",
        "if human_detected:\n",
        "    print(\"Human detected: Yes\")\n",
        "    print(\"Playing alarm sound...\")\n",
        "    playsound('D:/alarm/alarm_sound.mp3') \n",
        "else:\n",
        "    print(\"Human detected: No\")\n"
      ]
    }
  ],
  "metadata": {
    "colab": {
      "provenance": []
    },
    "kernelspec": {
      "display_name": ".venv",
      "language": "python",
      "name": "python3"
    },
    "language_info": {
      "codemirror_mode": {
        "name": "ipython",
        "version": 3
      },
      "file_extension": ".py",
      "mimetype": "text/x-python",
      "name": "python",
      "nbconvert_exporter": "python",
      "pygments_lexer": "ipython3",
      "version": "3.12.4"
    }
  },
  "nbformat": 4,
  "nbformat_minor": 0
}
